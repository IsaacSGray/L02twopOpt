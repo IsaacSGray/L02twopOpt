{
  "nbformat": 4,
  "nbformat_minor": 0,
  "metadata": {
    "colab": {
      "provenance": [],
      "include_colab_link": true
    },
    "kernelspec": {
      "name": "python3",
      "display_name": "Python 3"
    }
  },
  "cells": [
    {
      "cell_type": "markdown",
      "metadata": {
        "id": "view-in-github",
        "colab_type": "text"
      },
      "source": [
        "<a href=\"https://colab.research.google.com/github/IsaacSGray/L02twopOpt/blob/main/Copy_of_L01_Greedy.ipynb\" target=\"_parent\"><img src=\"https://colab.research.google.com/assets/colab-badge.svg\" alt=\"Open In Colab\"/></a>"
      ]
    },
    {
      "cell_type": "markdown",
      "metadata": {
        "id": "Ws6rXa1xv_gv"
      },
      "source": [
        "# [L01: Implementing Greedy TSP](https://docs.google.com/document/d/1JA_CWBXPN6whvJAemnJLvtYJ3Pbk84dTUolWO_QqosA/edit?usp=sharing)\n",
        "Written by Dr. Jan Pearce, Berea College\n",
        "\n",
        "Complete the code by meeting all linked requirements and fixing all FIXMEs\n",
        "\n",
        "## Your Name: Isaac Gray"
      ]
    },
    {
      "cell_type": "markdown",
      "metadata": {
        "id": "PvEpt0HPKq9X"
      },
      "source": [
        "**SUMMARY**: A brief summary description of the design and implementation, including how much your initial design plan evolved, the final result you achieved and the amount of time you spent as a programmer or programmers in accomplishing these results. This should be no more than two paragraphs.\n",
        "\n",
        "I started with the extraction method, then a list of places method. Both were important to my design process, as they give me my data to workwith. My design with the extraction of the data I devised after some lab hours with nakazawa and research with splicing of list in python, and some stack overflow on maps.\n",
        "\n",
        "After that I started with setting up my coordinate data in self.coords. I loop over self.nodedata which contains everything from its ID and all other important data. With some research into accessing specific elements to refresh myself on my python, I get it working. Accessing and appending each nods x and y coordinate. Useful for calculating distance.\n",
        "\n",
        "Which is what I did next. To calculate the distance of the route was quite useful as it lets us later implement a method where we need to find the nearest city. I did some stackoverflow search on calculating distance with networkx graphs, plus some gernative AI make this formula I used easier for me to understand move on my development.\n",
        "\n",
        "Geroute was the hardest part of development given with how many variables and just keeping track of when and where we are in the route. I started by checking if there are places to visit, then while there are places to check, clean up the list of places visited, and check if its not in visited. I used a fancy lil trick gathered from stack overflow and also generativeAI on using the min function with a lamda expression. It was confusing and took some debugging with syntax.\n",
        "\n",
        "I designed getGreedy last by simply calling the route function and appending the starting city to our route.\n",
        "\n",
        "**PERSONNEL**: Met with nakazawa at the start, consulted generative AI, stack overflow, and W3schools on anything else that didn't make sense to me. Some questions I had were also answered by peers in the course (those who had more recent python experience than I)\n",
        "\n",
        "**CHALLENGES**: What was the most challenging was the datastructures, some nuance python functions, and just *how* to imagine the graph. A huge issue I have is needing to conceptualize, visualize, and solve the problem conceptually before I can do it. I spent a lot of time on the drawing board before I put a single character in a line of code. Another issue was the link not working. It was sort of a mega headache. After I got past that at that it was a bit smooth other than trying to read the list- which was an issue since it was spaced out, unformatted.\n",
        "\n",
        "Another challenge was how to go about calculating distance, plus how to find the nearest city- that was a massive freaking headache for me as I didnt quite have my route yet, so calculation from current node was hard for me to conceptualize- so it held me back for a while.\n",
        "\n",
        "**INNOVATIONS**: I did not make any fancy or new innovations that were not asked of me. I did was necessary to complete the document. The most 'innovative' was fixing the URL document, and the calculate distance plus min methods used.\n",
        "\n",
        "**TESTING**: I tested things block by block, solving the smaller problems at first and testing them- and the bigger problems that had bigger collateral to debugging and testing I tested last as they often relied on directly or indirectly the smaller methods\n",
        "\n",
        "**ERRORS**: URL not working properly, that was frustrating as heck.\n",
        "\n",
        "**COMMENTS**: This was a pain in my butt- but that was due to me being crazy sick at the time of development and me solving the problem. I took an incremental approach to design and development and that really helped me. A huge comment I'd have to make is just how much help nakazawa was at the start with resolving thie mystical link not working properly. Another great help was generative AI which helped me with some niche python functions and methods that I was unfamiliar with.\n",
        "\n",
        "I absolutely abhor networkx due to its documentation being a bit..cluttered and confusing- and with research- also outdated.\n",
        "\n"
      ]
    },
    {
      "cell_type": "markdown",
      "metadata": {
        "id": "lRXe-Atyv30H"
      },
      "source": [
        "## Import Libraries"
      ]
    },
    {
      "cell_type": "code",
      "metadata": {
        "id": "b6koAGG2mhix"
      },
      "source": [
        "import networkx as nx\n",
        "import matplotlib.pyplot as plt\n",
        "import math\n",
        "from urllib.request import urlopen"
      ],
      "execution_count": null,
      "outputs": []
    },
    {
      "cell_type": "markdown",
      "metadata": {
        "id": "y-JqngNLmhVG"
      },
      "source": [
        "### Read data"
      ]
    },
    {
      "cell_type": "code",
      "metadata": {
        "id": "GzeEKA-nwLsJ"
      },
      "source": [
        "tspdata = urlopen(\"http://cs.berea.edu/courses/csc445/data/tsp-small.txt\").read().decode('ASCII')\n",
        "print(tspdata)"
      ],
      "execution_count": null,
      "outputs": []
    },
    {
      "cell_type": "markdown",
      "metadata": {
        "id": "qGcB5022KlHL"
      },
      "source": [
        "## TSP Class"
      ]
    },
    {
      "cell_type": "code",
      "metadata": {
        "id": "KIzVOICElISX",
        "outputId": "5db81a9d-79f2-4e4c-e651-32a606ee2f6b",
        "colab": {
          "base_uri": "https://localhost:8080/",
          "height": 106
        }
      },
      "source": [
        "\"\"\"\n",
        "\n",
        "Given certain input, it uses the greedy algorithm to plot a graph and output a file of the solution path\n",
        "\"\"\"\n",
        "\n",
        "class TSP:\n",
        "\n",
        "    def __init__(self):\n",
        "        \"\"\" TSP class containing data needed for networkx graph creation, file reading and file writing.\n",
        "            Creates a graph for the traveling salesperon problem using the greedy algorithm\n",
        "        \"\"\"\n",
        "\n",
        "        self.dimension = None\n",
        "        self.nodeData = []\n",
        "        self.graph = nx.DiGraph()\n",
        "        self.coords = {}\n",
        "        self.places = []\n",
        "        self.route = []\n",
        "\n",
        "    def extractData(self, data):\n",
        "        \"\"\"Extracts the number of vertices and their coordinates from the input data.\n",
        "        \"\"\"\n",
        "        lines = data.strip().split('\\n')\n",
        "        self.dimension = int(lines[0].strip())  # First line: number of nodes (vertices)\n",
        "        for line in lines[1:]:\n",
        "            x, y = map(int, line.strip().split())  # Remaining lines: x and y coordinates\n",
        "            self.nodeData.append((len(self.nodeData) + 1, x, y))  # store the node and where it is on the graph\n",
        "\n",
        "\n",
        "  def setUpCoords(self):\n",
        "        \"\"\"Sets up the coordinates for each node in a dictionary as tuples.\n",
        "        \"\"\"\n",
        "       # goes over each node in the list `self.nodeData`\n",
        "        for node in self.nodeData:\n",
        "            node_id = node[0] #first element is nodes int ID\n",
        "            xcord = node[1] #second element is the x cord of the node\n",
        "            ycord = node[2] #third element is the y cord of the node\n",
        "            self.coords[node_id] = (xcord, ycord) # Store the coordinates  as a tuple in the dictionary `self.coords`with the node ID as the key\n",
        "\n",
        "    def calculateDistance(self, a, b):\n",
        "        \"\"\"Calculates the distance between points a and then points b.\n",
        "         Arguments:\n",
        "        a (tuple): The coordinates of the first point as (x, y).\n",
        "        b (tuple): The coordinates of the second point as (x, y).\n",
        "\n",
        "    Returns:\n",
        "        float: The distance between the two points using the distance formula\n",
        "        \"\"\"\n",
        "        return math.sqrt((a[0] - b[0])**2 + (a[1] - b[1])**2) # first,calculates the squared the difference between the x cords,\n",
        "       # then, it calculates the squared the difference between the y cords, and then finally\n",
        "       # square root the sum of the differences squared to get final distance\n",
        "\n",
        "    def getRoute(self, current, visits=[], nVisits=[], needList=True):\n",
        "        \"\"\"Computes the route using the greedy algorithm by making the list of nodes to be visited.\n",
        "        Arguments:\n",
        "        current (int): the id of the current node (starting point).\n",
        "        visits (list) list of nodes that have been visited.\n",
        "        nVisits (list): list of nodes that have not been visited. .\n",
        "        needList (bool): flag indicating whether to initialize the list of nodes to visit.\n",
        "\n",
        "    \"\"\"\n",
        "        if needList:\n",
        "            nVisits = self.listPlaces()# starts the list of nodes that havent been visited\n",
        "        while nVisits:\n",
        "            visits.append(current) # adds the current node to the list of visited nodes\n",
        "            nVisits = self.cleanUpList(visits, nVisits)# updates the list of unvisited nodes by removing the nodes that have been visited\n",
        "            if not nVisits:# No more nodes to visit\n",
        "                break #break if there are no more visits to make\n",
        "            # finds the closest city\n",
        "            nearest_city = min(nVisits, key=lambda x: self.calculateDistance(self.coords[current], self.coords[x]))\n",
        "            #search nvisits, our iterable,our expression x is calculatingDistance from self.coords on the current node, this will be the\n",
        "            #node that is closest to us from the current node.\n",
        "            self.route.append(nearest_city)\n",
        "            current = nearest_city          # updates the current node to be the nearest node\n",
        "        # Ensure that the route is completed fully\n",
        "        if visits and visits[0] != current: #if our visits list, and last element in visits is not our current node, then append visits[0] to route.\n",
        "            self.route.append(visits[0])\n",
        "\n",
        "    def beGreedy(self, start):\n",
        "        \"\"\"Executes the greedy algorithm to find the route.\n",
        "    Arguments:\n",
        "        start (int): The ID of the starting node for the route.\n",
        "        Pair prog: Clau was the Driver and Sara was the navigator\n",
        "    \"\"\"\n",
        "        self.route = [start] # we append our start node to the route\n",
        "        self.getRoute(start) # call ger route from the start function\n",
        "        self.route.append(start) #we make sure our last city in the list is our starting city\n",
        "\n",
        "    def listPlaces(self):\n",
        "        \"\"\"Creates a list of all node ids from nodeData.\n",
        "        \"\"\"\n",
        "        return [node[0] for node in self.nodeData] #grabs the integer ID of each node in a list.\n",
        "\n",
        "    def cleanUpList(self, visited, notVisited):\n",
        "        \"\"\"removes items in visited from notVisited\n",
        "        Arguments:\n",
        "            visited {list}\n",
        "            notVisited {list}\n",
        "        Returns:\n",
        "            [list] -- a list of notVisited - visited\n",
        "        \"\"\"\n",
        "\n",
        "        for item in visited:\n",
        "            if item in notVisited:\n",
        "                notVisited.remove(item)\n",
        "        return notVisited\n",
        "\n",
        "    def addNodes(self):\n",
        "        \"\"\" adds nodes to the networkx graph\n",
        "        \"\"\"\n",
        "\n",
        "        for everything in self.nodeData:\n",
        "            node = everything[0]\n",
        "            self.graph.add_node(node, pos=self.coords[node])\n",
        "\n",
        "    def addEdges(self):\n",
        "        \"\"\"Adds graphs to the networkx graph\n",
        "        \"\"\"\n",
        "\n",
        "        x = 0\n",
        "        while x < len(self.route)-1:\n",
        "            self.graph.add_edge(self.route[x], self.route[x+1],\n",
        "                                weight=self.calculateDistance(self.coords[self.route[x]], self.coords[self.route[x+1]]))\n",
        "            x += 1\n",
        "\n",
        "    def showGraph(self):\n",
        "        \"\"\"Uses the imported libraries to display the graph\n",
        "        \"\"\"\n",
        "        # get labels and coordinates for the graph\n",
        "        coords = nx.get_node_attributes(self.graph, 'pos')\n",
        "        labels = nx.get_edge_attributes(self.graph, 'weight')\n",
        "        # draw nodes in their coordinates\n",
        "        nx.draw(self.graph, coords)\n",
        "        nx.draw_networkx_labels(self.graph, coords)\n",
        "        # draw edges with their weights\n",
        "        nx.draw_networkx_edge_labels(self.graph, coords, edge_labels=labels)\n",
        "        plt.show()\n",
        "\n",
        "\n",
        "\n",
        "\n",
        "def main():\n",
        "    tsp = TSP()\n",
        "\n",
        "    tsp.extractData(tspdata)\n",
        "    tsp.setUpCoords()\n",
        "    tsp.addNodes()\n",
        "    tsp.beGreedy(1)\n",
        "    tsp.addEdges()\n",
        "    tsp.showGraph()\n",
        "\n",
        "\n",
        "main()"
      ],
      "execution_count": null,
      "outputs": [
        {
          "output_type": "error",
          "ename": "IndentationError",
          "evalue": "unindent does not match any outer indentation level (<tokenize>, line 40)",
          "traceback": [
            "\u001b[0;36m  File \u001b[0;32m\"<tokenize>\"\u001b[0;36m, line \u001b[0;32m40\u001b[0m\n\u001b[0;31m    def calculateDistance(self, a, b):\u001b[0m\n\u001b[0m    ^\u001b[0m\n\u001b[0;31mIndentationError\u001b[0m\u001b[0;31m:\u001b[0m unindent does not match any outer indentation level\n"
          ]
        }
      ]
    },
    {
      "cell_type": "markdown",
      "metadata": {
        "id": "-6HarsXemeKP"
      },
      "source": []
    }
  ]
}