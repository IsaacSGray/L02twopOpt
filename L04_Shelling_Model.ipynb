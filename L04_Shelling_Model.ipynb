{
  "nbformat": 4,
  "nbformat_minor": 0,
  "metadata": {
    "colab": {
      "name": "L04: Shelling Model.ipynb",
      "provenance": [],
      "include_colab_link": true
    },
    "kernelspec": {
      "name": "python3",
      "display_name": "Python 3"
    }
  },
  "cells": [
    {
      "cell_type": "markdown",
      "metadata": {
        "id": "view-in-github",
        "colab_type": "text"
      },
      "source": [
        "<a href=\"https://colab.research.google.com/github/IsaacSGray/L02twopOpt/blob/main/L04_Shelling_Model.ipynb\" target=\"_parent\"><img src=\"https://colab.research.google.com/assets/colab-badge.svg\" alt=\"Open In Colab\"/></a>"
      ]
    },
    {
      "cell_type": "markdown",
      "metadata": {
        "id": "Ws6rXa1xv_gv"
      },
      "source": [
        "# [L04: Implementing the Shelling Model](https://docs.google.com/document/d/1NtGAKnsfwLRYMYrL74aMVMtTuQRJ1oDjvSFWlmMjpzs/edit?usp=sharing)\n",
        "Written by Dr. Jan Pearce, Berea College\n",
        "\n",
        "Complete the code by meeting all linked requirements and fixing all FIXMEs\n",
        "\n",
        "## Your Name: Isaac Gray"
      ]
    },
    {
      "cell_type": "markdown",
      "metadata": {
        "id": "PvEpt0HPKq9X"
      },
      "source": [
        "**SUMMARY**: My initial design evolved quite drastically. Originally I wanted to do networkX, however with some experimenting and some asking around, matplotlib was much easier to use which has coloring functionality, plus we also have X,Y coordinates which we are able to 'swap' Around based on checks. We can also color agents based on values.\n",
        "\n",
        "\n",
        "\n",
        "**PERSONNEL**: I worked with the TA, discussing some ideas, stub testing, also helping the TA in turn understanding the project requirement.\n",
        "\n",
        "**CHALLENGES**: Descriptions of the largest challenges you overcame and what made them challenging.\n",
        "\n",
        "One of the biggest challenges that faced me was testing this thing- it was hard to test it in small chunks considering that test firing one part at a time and seeing how it interacted with one another was hard to conceptualize. I did some doodling on whiteboard and paper to help find bounding\n",
        "\n",
        "**INNOVATIONS**:I didn't do any extra innovations not required by the document.\n",
        "\n",
        "**TESTING**: First as I developed my init function developing the data I need to keep persistent and eventually print at the end  of runtime as required by the lab document. Now after that I built development of my grid, and then devved and tested my checking of each node is satisfied, neighbors, and then swaps, then running until completion.\n",
        "\n",
        "**ERRORS**: A list in bulleted form of all known errors and deficiencies.\n",
        "\n",
        "Order of growth of his class is incredibly bad. I mean, anything about 60x50 ends up taking much longer  time to get a single grid.\n",
        "\n",
        "**COMMENTS**: A paragraph or so of your own comments on and reactions to the Lab.\n",
        "\n",
        "The lab was interesting, however given how tight the last month of all the due dates will be in this last month- its rough. I felt crunched by this project atop my capstone and HCC project, plus my calculus exam study period, plus the final exam for this course."
      ]
    },
    {
      "cell_type": "markdown",
      "metadata": {
        "id": "lRXe-Atyv30H"
      },
      "source": [
        "## Import Libraries"
      ]
    },
    {
      "cell_type": "code",
      "metadata": {
        "id": "b6koAGG2mhix"
      },
      "source": [
        "import networkx as nx\n",
        "import matplotlib.pyplot as plt\n",
        "import math\n",
        "from urllib.request import urlopen\n",
        "import random\n",
        "import numpy as np"
      ],
      "execution_count": null,
      "outputs": []
    },
    {
      "cell_type": "markdown",
      "metadata": {
        "id": "qGcB5022KlHL"
      },
      "source": [
        "## The Schelling Model"
      ]
    },
    {
      "cell_type": "code",
      "metadata": {
        "id": "KIzVOICElISX"
      },
      "source": [
        "\n",
        "class Schelling:\n",
        "    def __init__(self, width, height, empty_ratio, similarity_threshold):\n",
        "      \"\"\"\n",
        "      init function which intializes all variables and data structures upon creation\n",
        "      width:how many agents wide\n",
        "      height:how many agents tall\n",
        "      empty_ratio:#of agents whom are neutral, thus always satisfied\n",
        "      similarity_threshhold:Ratio of neighbors who must be similar\n",
        "      grid:2d array of agents\n",
        "      agentsmoved:list of agents that moved\n",
        "      \"\"\"\n",
        "        self.width = width\n",
        "        self.height = height\n",
        "        self.empty_ratio = empty_ratio\n",
        "        self.similarity_threshold = similarity_threshold\n",
        "        self.grid = self.initialize_grid()\n",
        "        self.agentsmoved=[]\n",
        "\n",
        "    def initialize_grid(self):\n",
        "      \"\"\"\n",
        "      num empty:exact count of empty cells\n",
        "      num agents:exact count of the number of agents, ignoring empty agents\n",
        "      two types of agents, 1 and 2, agents of type 0 are neutral\n",
        "      our grid  will make random choice for each agent type, for the entirety of num_agents\n",
        "      our grid will extend and count neutral agents, '0'\n",
        "      returns our numpy array of our grid, reshaping it by height and width,\n",
        "      \"\"\"\n",
        "        # Create a grid with empty spaces and two types of agents\n",
        "        num_empty = int(self.width * self.height * self.empty_ratio)\n",
        "        num_agents = self.width * self.height - num_empty\n",
        "        agent_types = [1, 2]  # Representing two different groups\n",
        "        grid = [random.choice(agent_types) for _ in range(num_agents)]\n",
        "        grid.extend([0] * num_empty)  # 0 represents empty space\n",
        "        random.shuffle(grid)\n",
        "        return np.array(grid).reshape(self.height, self.width)\n",
        "\n",
        "    def is_satisfied(self, x, y):\n",
        "        # Check if an agent is satisfied with its current location\n",
        "        \"\"\"\n",
        "        agent type is the value stored at this x and y\n",
        "        neighbors uses our built in get neighbors function, checking all direct neighbors\n",
        "        Counts the number of similar neighbors to total neighbors\n",
        "        \"\"\"\n",
        "        agent_type = self.grid[x, y]\n",
        "        if agent_type == 0:  # Empty spaces are always satisfied\n",
        "            return True\n",
        "\n",
        "        neighbors = self.get_neighbors(x, y)\n",
        "        similar_neighbors = sum(1 for neighbor in neighbors if neighbor == agent_type)\n",
        "        total_neighbors = len(neighbors)\n",
        "\n",
        "        if total_neighbors == 0:\n",
        "            return True  # Satisfied if no neighbors\n",
        "\n",
        "        similarity_ratio = similar_neighbors / total_neighbors\n",
        "        return similarity_ratio >= self.similarity_threshold\n",
        "\n",
        "    def get_neighbors(self, x, y):\n",
        "        # Get the neighbors of an agent (including empty spaces)\n",
        "        \"\"\"\n",
        "        This searches the neighbors, possible combination between a range of min and max y and x values\n",
        "        \"\"\"\n",
        "        neighbors = []\n",
        "        for i in range(max(0, x - 1), min(self.height, x + 2)):\n",
        "            for j in range(max(0, y - 1), min(self.width, y + 2)):\n",
        "                if (i, j) != (x, y):\n",
        "                    neighbors.append(self.grid[i, j])\n",
        "        return neighbors\n",
        "\n",
        "    def update(self):\n",
        "        # Move unsatisfied agents to empty locations\n",
        "        \"\"\"\n",
        "        This searches every X for Y, and every Y for X to ensure we search the entire grid,verifies if its in is_satisfied , and then appends\n",
        "        to the unsatisfied agents list\n",
        "        randomly shuffles this list.\n",
        "        Loops over it, verified if our x,y is not a neutral or 'empty' cell\n",
        "        We build a list of all the empty cells, we check if any exist, and make random choice with new x and new y. We then append\n",
        "        the x and y to the agents moved list.\n",
        "        \"\"\"\n",
        "        unsatisfied_agents = []\n",
        "        for x in range(self.height):\n",
        "            for y in range(self.width):\n",
        "                if not self.is_satisfied(x, y):\n",
        "                    unsatisfied_agents.append((x, y))\n",
        "\n",
        "        random.shuffle(unsatisfied_agents)\n",
        "        for x, y in unsatisfied_agents:\n",
        "            if self.grid[x, y] != 0:  # If not already empty\n",
        "                empty_locations = [(i, j) for i in range(self.height)\n",
        "                                  for j in range(self.width) if self.grid[i, j] == 0]\n",
        "                if empty_locations:\n",
        "                    new_x, new_y = random.choice(empty_locations)\n",
        "                    self.grid[new_x, new_y], self.grid[x, y] = self.grid[x, y], self.grid[new_x, new_y]\n",
        "                    if (x,y) not in self.agentsmoved:\n",
        "                      self.agentsmoved.append((x,y))\n",
        "\n",
        "    def plot(self):\n",
        "        # Plot the grid using matplotlib\n",
        "        \"\"\"\n",
        "        I use a color map which is applicable to colorblind people.\n",
        "        Interpolation is a rendering setting which I fooled around with till I liked one for rendering the plot\n",
        "        \"\"\"\n",
        "        plt.imshow(self.grid, cmap='viridis', interpolation='nearest')\n",
        "        plt.title('Schelling Segregation Model')\n",
        "        plt.show()\n",
        "\n",
        "    def print_results(self):\n",
        "      \"\"\"\n",
        "      Prints the results required by Lab04, can be called before and after runtime of the model.\n",
        "      \"\"\"\n",
        "      total_segregation=0\n",
        "      for x in range(self.height):\n",
        "        for y in range(self.width):\n",
        "          if self.is_satisfied(x,y):\n",
        "            total_segregation+=1\n",
        "      total_segregation=total_segregation/(self.height*self.width)\n",
        "      redagents=0\n",
        "      for x in range(self.height):\n",
        "        for y in range(self.width):\n",
        "          if self.grid[x,y]==1:\n",
        "            redagents+=1\n",
        "      blueagents=0\n",
        "      for x in range(self.height):\n",
        "        for y in range(self.width):\n",
        "          if self.grid[x,y]==2:\n",
        "            blueagents+=1\n",
        "      print(\"Agents Moved:\",len(self.agentsmoved))\n",
        "      print(\"Total Segregation:\",total_segregation)\n",
        "      print(\"Number of Red Agents\",redagents)\n",
        "      print(\"Number of Blue Agents\",blueagents)\n",
        "\n",
        "# Example usage\n",
        "schelling = Schelling(width=50, height=60, empty_ratio=0.40, similarity_threshold=0.3)\n",
        "schelling.plot()\n",
        "schelling.print_results()\n",
        "for _ in range(100):  # Run for 10 iterations\n",
        "    schelling.update()\n",
        "    schelling.plot()\n",
        "schelling.print_results()"
      ],
      "execution_count": null,
      "outputs": []
    },
    {
      "cell_type": "markdown",
      "metadata": {
        "id": "-6HarsXemeKP"
      },
      "source": []
    },
    {
      "cell_type": "markdown",
      "metadata": {
        "id": "hix-ipzHHnxp"
      },
      "source": []
    },
    {
      "cell_type": "markdown",
      "metadata": {
        "id": "zVTdKeGVH0Im"
      },
      "source": [
        "## Integrity statement\n",
        "\n",
        "Please briefly describe all references you used, all help you received and all help you gave to others in completing this assignment. Be sure to say that you got no help if you got none.\n",
        "\n",
        "FIXME"
      ]
    }
  ]
}